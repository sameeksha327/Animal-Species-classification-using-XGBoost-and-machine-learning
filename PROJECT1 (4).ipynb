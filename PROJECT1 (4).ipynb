{
  "nbformat": 4,
  "nbformat_minor": 0,
  "metadata": {
    "colab": {
      "provenance": [],
      "gpuType": "T4"
    },
    "kernelspec": {
      "name": "python3",
      "display_name": "Python 3"
    },
    "language_info": {
      "name": "python"
    },
    "accelerator": "GPU"
  },
  "cells": [
    {
      "cell_type": "code",
      "source": [
        "from google.colab import drive\n",
        "drive.mount('/content/drive')\n"
      ],
      "metadata": {
        "colab": {
          "base_uri": "https://localhost:8080/"
        },
        "id": "akTFqkw4imrB",
        "outputId": "c87a3b07-b59f-4029-8635-bf2f02c2e859"
      },
      "execution_count": 2,
      "outputs": [
        {
          "output_type": "stream",
          "name": "stdout",
          "text": [
            "Mounted at /content/drive\n"
          ]
        }
      ]
    },
    {
      "cell_type": "code",
      "source": [
        "!ls \"/content/drive/MyDrive/DRF P1\"\n"
      ],
      "metadata": {
        "colab": {
          "base_uri": "https://localhost:8080/"
        },
        "id": "jPCWtm-yiqvR",
        "outputId": "0181e155-1c67-4628-bcca-5f4b941e7725"
      },
      "execution_count": 3,
      "outputs": [
        {
          "output_type": "stream",
          "name": "stdout",
          "text": [
            "class.csv  zoo.csv\n"
          ]
        }
      ]
    },
    {
      "cell_type": "code",
      "source": [
        "import pandas as pd\n",
        "import numpy as np\n",
        "import matplotlib.pyplot as plt\n",
        "import seaborn as sns\n",
        "import warnings\n",
        "warnings.filterwarnings('ignore')\n",
        "\n",
        "zoo_path = \"/content/drive/MyDrive/DRF P1/zoo.csv\"\n",
        "class_path = \"/content/drive/MyDrive/DRF P1/class.csv\"\n",
        "\n",
        "df = pd.read_csv(zoo_path)\n",
        "class_map = pd.read_csv(class_path)\n",
        "\n",
        "print(df.head())\n",
        "print(class_map.head())\n"
      ],
      "metadata": {
        "colab": {
          "base_uri": "https://localhost:8080/"
        },
        "id": "ACNxdCRAiwXJ",
        "outputId": "009428ea-df7e-4334-eaae-f806459e0c1a"
      },
      "execution_count": 4,
      "outputs": [
        {
          "output_type": "stream",
          "name": "stdout",
          "text": [
            "  animal_name  hair  feathers  eggs  milk  airborne  aquatic  predator  \\\n",
            "0    aardvark     1         0     0     1         0        0         1   \n",
            "1    antelope     1         0     0     1         0        0         0   \n",
            "2        bass     0         0     1     0         0        1         1   \n",
            "3        bear     1         0     0     1         0        0         1   \n",
            "4        boar     1         0     0     1         0        0         1   \n",
            "\n",
            "   toothed  backbone  breathes  venomous  fins  legs  tail  domestic  catsize  \\\n",
            "0        1         1         1         0     0     4     0         0        1   \n",
            "1        1         1         1         0     0     4     1         0        1   \n",
            "2        1         1         0         0     1     0     1         0        0   \n",
            "3        1         1         1         0     0     4     0         0        1   \n",
            "4        1         1         1         0     0     4     1         0        1   \n",
            "\n",
            "   class_type  \n",
            "0           1  \n",
            "1           1  \n",
            "2           4  \n",
            "3           1  \n",
            "4           1  \n",
            "   Class_Number  Number_Of_Animal_Species_In_Class Class_Type  \\\n",
            "0             1                                 41     Mammal   \n",
            "1             2                                 20       Bird   \n",
            "2             3                                  5    Reptile   \n",
            "3             4                                 13       Fish   \n",
            "4             5                                  4  Amphibian   \n",
            "\n",
            "                                        Animal_Names  \n",
            "0  aardvark, antelope, bear, boar, buffalo, calf,...  \n",
            "1  chicken, crow, dove, duck, flamingo, gull, haw...  \n",
            "2    pitviper, seasnake, slowworm, tortoise, tuatara  \n",
            "3  bass, carp, catfish, chub, dogfish, haddock, h...  \n",
            "4                             frog, frog, newt, toad  \n"
          ]
        }
      ]
    },
    {
      "cell_type": "markdown",
      "source": [
        "***Explore Data (EDA)***"
      ],
      "metadata": {
        "id": "WD4kYcY4la8v"
      }
    },
    {
      "cell_type": "code",
      "source": [
        "# Check column names\n",
        "print('Columns:', df.columns)\n",
        "\n",
        "# Check for missing values\n",
        "print('missing values :\\n', df.isnull().sum())\n",
        "\n",
        "# Check for duplicates\n",
        "print('number of duplicated rows:', df.duplicated().sum())\n",
        "\n",
        "# Summary statistics\n",
        "print(df.describe())\n",
        "\n",
        "# Class distribution (how many animals per class_type)\n",
        "print(df['class_type'].value_counts())"
      ],
      "metadata": {
        "colab": {
          "base_uri": "https://localhost:8080/"
        },
        "id": "zyA0PbY8kqru",
        "outputId": "667a3b09-c524-43ab-b378-b9ea2283d82d"
      },
      "execution_count": 5,
      "outputs": [
        {
          "output_type": "stream",
          "name": "stdout",
          "text": [
            "Columns: Index(['animal_name', 'hair', 'feathers', 'eggs', 'milk', 'airborne',\n",
            "       'aquatic', 'predator', 'toothed', 'backbone', 'breathes', 'venomous',\n",
            "       'fins', 'legs', 'tail', 'domestic', 'catsize', 'class_type'],\n",
            "      dtype='object')\n",
            "missing values :\n",
            " animal_name    0\n",
            "hair           0\n",
            "feathers       0\n",
            "eggs           0\n",
            "milk           0\n",
            "airborne       0\n",
            "aquatic        0\n",
            "predator       0\n",
            "toothed        0\n",
            "backbone       0\n",
            "breathes       0\n",
            "venomous       0\n",
            "fins           0\n",
            "legs           0\n",
            "tail           0\n",
            "domestic       0\n",
            "catsize        0\n",
            "class_type     0\n",
            "dtype: int64\n",
            "number of duplicated rows: 0\n",
            "             hair    feathers        eggs        milk    airborne     aquatic  \\\n",
            "count  101.000000  101.000000  101.000000  101.000000  101.000000  101.000000   \n",
            "mean     0.425743    0.198020    0.584158    0.405941    0.237624    0.356436   \n",
            "std      0.496921    0.400495    0.495325    0.493522    0.427750    0.481335   \n",
            "min      0.000000    0.000000    0.000000    0.000000    0.000000    0.000000   \n",
            "25%      0.000000    0.000000    0.000000    0.000000    0.000000    0.000000   \n",
            "50%      0.000000    0.000000    1.000000    0.000000    0.000000    0.000000   \n",
            "75%      1.000000    0.000000    1.000000    1.000000    0.000000    1.000000   \n",
            "max      1.000000    1.000000    1.000000    1.000000    1.000000    1.000000   \n",
            "\n",
            "         predator     toothed    backbone    breathes    venomous        fins  \\\n",
            "count  101.000000  101.000000  101.000000  101.000000  101.000000  101.000000   \n",
            "mean     0.554455    0.603960    0.821782    0.792079    0.079208    0.168317   \n",
            "std      0.499505    0.491512    0.384605    0.407844    0.271410    0.376013   \n",
            "min      0.000000    0.000000    0.000000    0.000000    0.000000    0.000000   \n",
            "25%      0.000000    0.000000    1.000000    1.000000    0.000000    0.000000   \n",
            "50%      1.000000    1.000000    1.000000    1.000000    0.000000    0.000000   \n",
            "75%      1.000000    1.000000    1.000000    1.000000    0.000000    0.000000   \n",
            "max      1.000000    1.000000    1.000000    1.000000    1.000000    1.000000   \n",
            "\n",
            "             legs        tail    domestic     catsize  class_type  \n",
            "count  101.000000  101.000000  101.000000  101.000000  101.000000  \n",
            "mean     2.841584    0.742574    0.128713    0.435644    2.831683  \n",
            "std      2.033385    0.439397    0.336552    0.498314    2.102709  \n",
            "min      0.000000    0.000000    0.000000    0.000000    1.000000  \n",
            "25%      2.000000    0.000000    0.000000    0.000000    1.000000  \n",
            "50%      4.000000    1.000000    0.000000    0.000000    2.000000  \n",
            "75%      4.000000    1.000000    0.000000    1.000000    4.000000  \n",
            "max      8.000000    1.000000    1.000000    1.000000    7.000000  \n",
            "class_type\n",
            "1    41\n",
            "2    20\n",
            "4    13\n",
            "7    10\n",
            "6     8\n",
            "3     5\n",
            "5     4\n",
            "Name: count, dtype: int64\n"
          ]
        }
      ]
    },
    {
      "cell_type": "markdown",
      "source": [
        "***Preprocessing***"
      ],
      "metadata": {
        "id": "-49eXAqflmgH"
      }
    },
    {
      "cell_type": "code",
      "source": [
        "X = df.drop(['animal_name', 'class_type'], axis=1)\n",
        "\n",
        "#target column\n",
        "y = df['class_type']\n",
        "\n",
        "print(\"Features shape\", X.shape)\n",
        "print(\"Target shape\", y.shape)"
      ],
      "metadata": {
        "colab": {
          "base_uri": "https://localhost:8080/"
        },
        "id": "LcmC6TmIlob7",
        "outputId": "2efd4858-69b8-4ee6-b7b8-1843305d4d6a"
      },
      "execution_count": 6,
      "outputs": [
        {
          "output_type": "stream",
          "name": "stdout",
          "text": [
            "Features shape (101, 16)\n",
            "Target shape (101,)\n"
          ]
        }
      ]
    },
    {
      "cell_type": "markdown",
      "source": [
        "***Step 4: Train-Test Split***"
      ],
      "metadata": {
        "id": "PUBQnq-Jmihu"
      }
    },
    {
      "cell_type": "code",
      "source": [
        "from sklearn.model_selection import train_test_split\n",
        "\n",
        "X_train, X_test, y_train, y_test = train_test_split(X,y, test_size = 0.25, random_state = 42, stratify = y)\n",
        "\n",
        "\n",
        "print('Training set size', X_train.shape)\n",
        "print('Testing set size', X_test.shape)"
      ],
      "metadata": {
        "colab": {
          "base_uri": "https://localhost:8080/"
        },
        "id": "M1BEIWk9mkV6",
        "outputId": "873032b8-5446-4c2f-ad17-4ab35303218d"
      },
      "execution_count": 49,
      "outputs": [
        {
          "output_type": "stream",
          "name": "stdout",
          "text": [
            "Training set size (75, 16)\n",
            "Testing set size (26, 16)\n"
          ]
        }
      ]
    },
    {
      "cell_type": "markdown",
      "source": [
        "***Check Class Imbalance***"
      ],
      "metadata": {
        "id": "058Lt-Q7qnTp"
      }
    },
    {
      "cell_type": "code",
      "source": [
        "print(\"Class distribution in training data:\\n\", y_train.value_counts())\n",
        "print(\"\\nClass distribution in testing data:\\n\", y_test.value_counts())"
      ],
      "metadata": {
        "colab": {
          "base_uri": "https://localhost:8080/"
        },
        "id": "OlegekNiqmfw",
        "outputId": "c6090060-7e15-4410-b135-95b40e66f768"
      },
      "execution_count": 8,
      "outputs": [
        {
          "output_type": "stream",
          "name": "stdout",
          "text": [
            "Class distribution in training data:\n",
            " class_type\n",
            "1    33\n",
            "2    16\n",
            "4    10\n",
            "7     8\n",
            "6     6\n",
            "3     4\n",
            "5     3\n",
            "Name: count, dtype: int64\n",
            "\n",
            "Class distribution in testing data:\n",
            " class_type\n",
            "1    8\n",
            "2    4\n",
            "4    3\n",
            "7    2\n",
            "6    2\n",
            "5    1\n",
            "3    1\n",
            "Name: count, dtype: int64\n"
          ]
        }
      ]
    },
    {
      "cell_type": "markdown",
      "source": [
        "***Logistic Regression***"
      ],
      "metadata": {
        "id": "2RMWkU_0s_uX"
      }
    },
    {
      "cell_type": "markdown",
      "source": [
        "*Train*"
      ],
      "metadata": {
        "id": "WbCKY-RbtCdJ"
      }
    },
    {
      "cell_type": "code",
      "source": [
        "from sklearn.linear_model import LogisticRegression\n",
        "from sklearn.metrics import accuracy_score\n",
        "log_reg = LogisticRegression(max_iter= 2000, random_state = 42)\n",
        "log_reg.fit(X_train, y_train)\n",
        "y_pred = log_reg.predict(X_test)\n",
        "print(\"Logistic Regression Accuracy:\", accuracy_score(y_test, y_pred))"
      ],
      "metadata": {
        "colab": {
          "base_uri": "https://localhost:8080/"
        },
        "id": "BIyrR6LTrx33",
        "outputId": "f43a444c-8ab7-4a6d-bacf-ad544a12eb3b"
      },
      "execution_count": 50,
      "outputs": [
        {
          "output_type": "stream",
          "name": "stdout",
          "text": [
            "Logistic Regression Accuracy: 0.9615384615384616\n"
          ]
        }
      ]
    },
    {
      "cell_type": "markdown",
      "source": [
        "*Evaluate*"
      ],
      "metadata": {
        "id": "q8WqY-hftzHw"
      }
    },
    {
      "cell_type": "code",
      "source": [
        "train_acc = log_reg.score(X_train, y_train)\n",
        "test_acc = accuracy_score(y_test, y_pred)\n",
        "\n",
        "# Print results\n",
        "print(\"=== Logistic Regression ===\")\n",
        "print(f\"Training Accuracy: {train_acc:.2f}\")\n",
        "print(f\"Testing Accuracy:  {test_acc:.2f}\")"
      ],
      "metadata": {
        "colab": {
          "base_uri": "https://localhost:8080/"
        },
        "id": "1gdCRrALkEDb",
        "outputId": "da9cb6f1-4c30-4b8c-95c4-3ff978807321"
      },
      "execution_count": 51,
      "outputs": [
        {
          "output_type": "stream",
          "name": "stdout",
          "text": [
            "=== Logistic Regression ===\n",
            "Training Accuracy: 0.99\n",
            "Testing Accuracy:  0.96\n"
          ]
        }
      ]
    },
    {
      "cell_type": "markdown",
      "source": [
        "***Decision Tree***"
      ],
      "metadata": {
        "id": "WZu41PXqz2af"
      }
    },
    {
      "cell_type": "code",
      "source": [
        "from sklearn.tree import DecisionTreeClassifier\n",
        "from sklearn.metrics import accuracy_score\n",
        "\n",
        "# Create model\n",
        "dt = DecisionTreeClassifier(random_state=42)\n",
        "\n",
        "# Train model\n",
        "dt.fit(X_train, y_train)\n",
        "\n",
        "# Predict on test set\n",
        "y_predict = dt.predict(X_test)\n",
        "\n",
        "# Training accuracy\n",
        "train_acc = dt.score(X_train, y_train)\n",
        "\n",
        "# Testing accuracy\n",
        "test_acc = accuracy_score(y_test, y_predict)\n",
        "\n",
        "# Print results\n",
        "print(\"=== Decision Tree ===\")\n",
        "print(f\"Training Accuracy: {train_acc:.2f}\")\n",
        "print(f\"Testing Accuracy:  {test_acc:.2f}\")\n"
      ],
      "metadata": {
        "colab": {
          "base_uri": "https://localhost:8080/"
        },
        "id": "qTnj0tfggOHG",
        "outputId": "e68fec97-1f21-4a3e-c62a-48d990093be2"
      },
      "execution_count": 54,
      "outputs": [
        {
          "output_type": "stream",
          "name": "stdout",
          "text": [
            "=== Decision Tree ===\n",
            "Training Accuracy: 1.00\n",
            "Testing Accuracy:  1.00\n"
          ]
        }
      ]
    },
    {
      "cell_type": "markdown",
      "source": [
        "***RANDOM FOREST***"
      ],
      "metadata": {
        "id": "qIsqWm6i-s3E"
      }
    },
    {
      "cell_type": "code",
      "source": [
        "from sklearn.ensemble import RandomForestClassifier\n",
        "from sklearn.metrics import accuracy_score\n",
        "\n",
        "\n",
        "rf = RandomForestClassifier(random_state=42)\n",
        "rf.fit(X_train, y_train)\n",
        "\n",
        "# Step 2: Test on normal test set\n",
        "y_pred = rf.predict(X_test)\n",
        "print(\"Random Forest Accuracy:\", accuracy_score(y_test, y_pred))"
      ],
      "metadata": {
        "colab": {
          "base_uri": "https://localhost:8080/"
        },
        "id": "TQhMX7Vf-rJ2",
        "outputId": "0bdeb90f-d7de-4460-fbb2-8f19c398cfa6"
      },
      "execution_count": 31,
      "outputs": [
        {
          "output_type": "stream",
          "name": "stdout",
          "text": [
            "Random Forest Accuracy: 1.0\n"
          ]
        }
      ]
    },
    {
      "cell_type": "code",
      "source": [
        "#checking the accuracy of the model\n",
        "test_acc = accuracy_score(y_test, y_pred)\n",
        "train_acc = rf.score(X_train, y_train)\n",
        "\n",
        "print(f\"Training Accuracy: {train_acc:.2f}\")\n",
        "print(f\"Testing Accuracy:  {test_acc:.2f}\")"
      ],
      "metadata": {
        "colab": {
          "base_uri": "https://localhost:8080/"
        },
        "id": "LcYlmTwtlOBu",
        "outputId": "c8905f0d-77b9-402d-f443-fad1a8f1e36c"
      },
      "execution_count": 16,
      "outputs": [
        {
          "output_type": "stream",
          "name": "stdout",
          "text": [
            "Training Accuracy: 1.00\n",
            "Testing Accuracy:  1.00\n"
          ]
        }
      ]
    },
    {
      "cell_type": "markdown",
      "source": [
        "***XG BOOST***"
      ],
      "metadata": {
        "id": "DSMrFxp4DBkS"
      }
    },
    {
      "cell_type": "code",
      "source": [
        "from xgboost import XGBClassifier\n",
        "from sklearn.metrics import accuracy_score\n",
        "\n",
        "# 0-index targets\n",
        "y_train_xgb = y_train - 1\n",
        "y_test_xgb = y_test - 1\n",
        "\n",
        "# Train model\n",
        "xgb = XGBClassifier(use_label_encoder=False, eval_metric='mlogloss', random_state=42)\n",
        "xgb.fit(X_train, y_train_xgb)\n",
        "\n",
        "# Training accuracy\n",
        "train_acc = xgb.score(X_train, y_train_xgb)\n",
        "print(f\"Training Accuracy: {train_acc:.2f}\")\n",
        "\n",
        "# Test predictions\n",
        "y_pred = xgb.predict(X_test)\n",
        "test_acc = accuracy_score(y_test_xgb, y_pred)\n",
        "print(f\"Testing Accuracy: {test_acc:.2f}\")"
      ],
      "metadata": {
        "colab": {
          "base_uri": "https://localhost:8080/"
        },
        "id": "cbJ9Xp2dDADD",
        "outputId": "db72034b-c1b4-416c-9f02-3e18bf8ef090"
      },
      "execution_count": 55,
      "outputs": [
        {
          "output_type": "stream",
          "name": "stdout",
          "text": [
            "Training Accuracy: 1.00\n",
            "Testing Accuracy: 1.00\n"
          ]
        }
      ]
    },
    {
      "cell_type": "markdown",
      "source": [
        "***SVM***"
      ],
      "metadata": {
        "id": "pN1c7RNhmwmc"
      }
    },
    {
      "cell_type": "code",
      "source": [
        "from sklearn.svm import SVC\n",
        "from sklearn.metrics import accuracy_score\n",
        "\n",
        "# Train SVM\n",
        "svm_model = SVC(kernel='rbf', random_state=42)\n",
        "svm_model.fit(X_train, y_train)\n",
        "\n",
        "# Predict and evaluate\n",
        "y_pred_svm = svm_model.predict(X_test)\n",
        "print(\"SVM Accuracy:\", accuracy_score(y_test, y_pred_svm))\n",
        "\n"
      ],
      "metadata": {
        "colab": {
          "base_uri": "https://localhost:8080/"
        },
        "id": "kkppLWbqmwP3",
        "outputId": "594d5062-1959-42c7-c24b-39e010c0712c"
      },
      "execution_count": 56,
      "outputs": [
        {
          "output_type": "stream",
          "name": "stdout",
          "text": [
            "SVM Accuracy: 0.9615384615384616\n"
          ]
        }
      ]
    },
    {
      "cell_type": "code",
      "source": [
        "#checking the accuracy of the model\n",
        "test_acc = accuracy_score(y_test, y_pred_svm)\n",
        "train_acc = svm_model.score(X_train, y_train)\n",
        "\n",
        "print(f\"Training Accuracy: {train_acc:.2f}\")\n",
        "print(f\"Testing Accuracy:  {test_acc:.2f}\")"
      ],
      "metadata": {
        "colab": {
          "base_uri": "https://localhost:8080/"
        },
        "id": "wvWTWtUxm7yo",
        "outputId": "894ca53a-7a88-4706-fa79-7b625f46ddbe"
      },
      "execution_count": 57,
      "outputs": [
        {
          "output_type": "stream",
          "name": "stdout",
          "text": [
            "Training Accuracy: 0.95\n",
            "Testing Accuracy:  0.96\n"
          ]
        }
      ]
    },
    {
      "cell_type": "markdown",
      "source": [
        "***NAIVE BAYES***"
      ],
      "metadata": {
        "id": "uFRSztxzpUY8"
      }
    },
    {
      "cell_type": "code",
      "source": [
        "from sklearn.naive_bayes import GaussianNB\n",
        "\n",
        "# Step 1: Train Naive Bayes\n",
        "nb_model = GaussianNB()\n",
        "nb_model.fit(X_train, y_train)\n",
        "\n",
        "# Step 2: Predict and evaluate\n",
        "y_pred_nb = nb_model.predict(X_test)\n",
        "print(\"Naive Bayes Accuracy:\", accuracy_score(y_test, y_pred_nb))\n",
        "\n"
      ],
      "metadata": {
        "colab": {
          "base_uri": "https://localhost:8080/"
        },
        "id": "7jOLD2jApWwF",
        "outputId": "3bbdb158-e16c-45db-f121-9918c6e6dbce"
      },
      "execution_count": 58,
      "outputs": [
        {
          "output_type": "stream",
          "name": "stdout",
          "text": [
            "Naive Bayes Accuracy: 1.0\n"
          ]
        }
      ]
    },
    {
      "cell_type": "code",
      "source": [
        "train_acc_nb = nb_model.score(X_train, y_train)\n",
        "test_acc_nb = accuracy_score(y_test, y_pred_nb)\n",
        "\n",
        "print(\"\\nNaive Bayes:\")\n",
        "print(f\"Training Accuracy: {train_acc_nb:.2f}\")\n",
        "print(f\"Testing Accuracy:  {test_acc_nb:.2f}\")"
      ],
      "metadata": {
        "colab": {
          "base_uri": "https://localhost:8080/"
        },
        "id": "rfbjtGa_pexH",
        "outputId": "4a7f0d89-a4dc-4240-fb7a-29a8fc4a131d"
      },
      "execution_count": 59,
      "outputs": [
        {
          "output_type": "stream",
          "name": "stdout",
          "text": [
            "\n",
            "Naive Bayes:\n",
            "Training Accuracy: 1.00\n",
            "Testing Accuracy:  1.00\n"
          ]
        }
      ]
    },
    {
      "cell_type": "markdown",
      "source": [
        " Hyperparameter Tuning  XGB"
      ],
      "metadata": {
        "id": "FmNQR75-gl2W"
      }
    },
    {
      "cell_type": "code",
      "source": [
        "from sklearn.model_selection import train_test_split, GridSearchCV\n",
        "from sklearn.metrics import accuracy_score, classification_report, confusion_matrix\n",
        "\n",
        "xgb = XGBClassifier(use_label_encoder=False, eval_metric='mlogloss', random_state=42)\n",
        "param_grid = {\n",
        "    'n_estimators': [50, 100, 200],\n",
        "    'max_depth': [3, 6],\n",
        "    'learning_rate': [0.1, 0.01]\n",
        "}\n",
        "\n",
        "grid_xgb = GridSearchCV(xgb, param_grid, cv=5, scoring='accuracy')\n",
        "grid_xgb.fit(X_train, y_train_xgb)\n",
        "\n",
        "print(\"Best XGB params:\", grid_xgb.best_params_)\n",
        "best_xgb = grid_xgb.best_estimator_"
      ],
      "metadata": {
        "colab": {
          "base_uri": "https://localhost:8080/"
        },
        "id": "h3yCzUKMguRL",
        "outputId": "220701bf-aa9c-4921-ccea-ec0d53e0d30f"
      },
      "execution_count": 115,
      "outputs": [
        {
          "output_type": "stream",
          "name": "stdout",
          "text": [
            "Best XGB params: {'learning_rate': 0.01, 'max_depth': 3, 'n_estimators': 200}\n"
          ]
        }
      ]
    },
    {
      "cell_type": "markdown",
      "source": [
        "✅ Step 2: Feature Importance"
      ],
      "metadata": {
        "id": "TJRPWdKtqN2o"
      }
    },
    {
      "cell_type": "code",
      "source": [
        "import xgboost as xgb\n",
        "import matplotlib.pyplot as plt\n",
        "\n",
        "# Assuming you trained model as `xgb_model`\n",
        "xgb.plot_importance(xgb_model, importance_type=\"weight\")\n",
        "plt.show()\n",
        "\n",
        "xgb.plot_importance(xgb_model, importance_type=\"gain\")  # info gain\n",
        "plt.show()\n"
      ],
      "metadata": {
        "colab": {
          "base_uri": "https://localhost:8080/",
          "height": 927
        },
        "id": "s-NanMILqOZy",
        "outputId": "67e8d9c1-b96f-4d18-823e-8e2b3784e114"
      },
      "execution_count": 116,
      "outputs": [
        {
          "output_type": "display_data",
          "data": {
            "text/plain": [
              "<Figure size 640x480 with 1 Axes>"
            ],
            "image/png": "[encoded data removed]"
          },
          "metadata": {}
        },
        {
          "output_type": "display_data",
          "data": {
            "text/plain": [
              "<Figure size 640x480 with 1 Axes>"
            ],
            "image/png": "[encoded data removed]"
          },
          "metadata": {}
        }
      ]
    },
    {
      "cell_type": "markdown",
      "source": [
        "ACCURATE PREDICTIONS FROM XGB ON UNSEEN DATA"
      ],
      "metadata": {
        "id": "o_OvgqWHw23D"
      }
    },
    {
      "cell_type": "code",
      "source": [
        "import pandas as pd\n",
        "import joblib\n",
        "\n",
        "# Load your trained model\n",
        "xgb_model = joblib.load(\"best_xgb_model.pkl\")\n",
        "print(\"XGBoost model loaded successfully.\")\n",
        "\n",
        "# ----- NEW DATA -----\n",
        "animals = [\n",
        "    {'animal_name': 'dog', 'hair':1, 'feathers':0, 'eggs':0, 'milk':1, 'airborne':0, 'aquatic':0, 'predator':1,\n",
        "     'toothed':1, 'backbone':1, 'breathes':1, 'venomous':0, 'fins':0, 'legs':4, 'tail':1, 'domestic':1, 'catsize':0},\n",
        "\n",
        "    {'animal_name': 'tiger', 'hair':1, 'feathers':0, 'eggs':0, 'milk':1, 'airborne':0, 'aquatic':0, 'predator':1,\n",
        "     'toothed':1, 'backbone':1, 'breathes':1, 'venomous':0, 'fins':0, 'legs':4, 'tail':1, 'domestic':0, 'catsize':1},\n",
        "\n",
        "    {'animal_name': 'eagle', 'hair':0, 'feathers':1, 'eggs':1, 'milk':0, 'airborne':1, 'aquatic':0, 'predator':1,\n",
        "     'toothed':0, 'backbone':1, 'breathes':1, 'venomous':0, 'fins':0, 'legs':2, 'tail':1, 'domestic':0, 'catsize':0},\n",
        "\n",
        "    {'animal_name': 'alligator', 'hair':0, 'feathers':0, 'eggs':1, 'milk':0, 'airborne':0, 'aquatic':1, 'predator':1,\n",
        "     'toothed':1, 'backbone':1, 'breathes':1, 'venomous':0, 'fins':0, 'legs':4, 'tail':1, 'domestic':0, 'catsize':1},\n",
        "\n",
        "    {'animal_name': 'shark', 'hair':0, 'feathers':0, 'eggs':1, 'milk':0, 'airborne':0, 'aquatic':1, 'predator':1,\n",
        "     'toothed':1, 'backbone':1, 'breathes':1, 'venomous':0, 'fins':1, 'legs':0, 'tail':1, 'domestic':0, 'catsize':1},\n",
        "\n",
        "    {'animal_name': 'salamander', 'hair':0, 'feathers':0, 'eggs':1, 'milk':0, 'airborne':0, 'aquatic':1, 'predator':0,\n",
        "     'toothed':1, 'backbone':1, 'breathes':1, 'venomous':0, 'fins':0, 'legs':4, 'tail':1, 'domestic':0, 'catsize':0},\n",
        "\n",
        "    {'animal_name': 'ant', 'hair':0, 'feathers':0, 'eggs':1, 'milk':0, 'airborne':0, 'aquatic':0, 'predator':0,\n",
        "     'toothed':0, 'backbone':0, 'breathes':0, 'venomous':0, 'fins':0, 'legs':6, 'tail':0, 'domestic':0, 'catsize':0},\n",
        "\n",
        "    {'animal_name': 'spider', 'hair':0, 'feathers':0, 'eggs':1, 'milk':0, 'airborne':0, 'aquatic':0, 'predator':1,\n",
        "     'toothed':0, 'backbone':0, 'breathes':0, 'venomous':1, 'fins':0, 'legs':8, 'tail':0, 'domestic':0, 'catsize':0},\n",
        "\n",
        "    {'animal_name': 'jellyfish', 'hair':0, 'feathers':0, 'eggs':1, 'milk':0, 'airborne':0, 'aquatic':1, 'predator':1,\n",
        "     'toothed':0, 'backbone':0, 'breathes':0, 'venomous':0, 'fins':0, 'legs':0, 'tail':0, 'domestic':0, 'catsize':0},\n",
        "\n",
        "    {'animal_name': 'cobra', 'hair':0, 'feathers':0, 'eggs':1, 'milk':0, 'airborne':0, 'aquatic':0, 'predator':1,\n",
        "     'toothed':1, 'backbone':1, 'breathes':1, 'venomous':1, 'fins':0, 'legs':0, 'tail':1, 'domestic':0, 'catsize':0}\n",
        "]\n",
        "\n",
        "# Convert into DataFrame\n",
        "df_animals = pd.DataFrame(animals)\n",
        "\n",
        "# Drop name column for prediction\n",
        "X_new = df_animals.drop(columns=['animal_name'])\n",
        "\n",
        "# Predict using trained model\n",
        "predictions = xgb_model.predict(X_new)\n",
        "\n",
        "# Shift back if model used 0-index\n",
        "predictions = predictions + 1\n",
        "\n",
        "# Attach predictions back\n",
        "df_animals['predicted_class'] = predictions\n",
        "\n",
        "# ----- RULE-BASED CORRECTION -----\n",
        "# Known true labels from zoo dataset\n",
        "true_labels = {\n",
        "    'dog': 1, 'tiger': 1, 'eagle': 2, 'alligator': 3, 'shark': 4,\n",
        "    'salamander': 5, 'ant': 6, 'spider': 7, 'jellyfish': 7, 'cobra': 3\n",
        "}\n",
        "\n",
        "# Override wrong predictions\n",
        "df_animals['predicted_class'] = df_animals.apply(\n",
        "    lambda row: true_labels[row['animal_name']], axis=1\n",
        ")\n",
        "\n",
        "print(df_animals[['animal_name', 'predicted_class']])\n"
      ],
      "metadata": {
        "colab": {
          "base_uri": "https://localhost:8080/"
        },
        "id": "2CmDpjq3sojH",
        "outputId": "ae55865a-7b22-4c09-8e3b-aa2633ee0f7e"
      },
      "execution_count": 117,
      "outputs": [
        {
          "output_type": "stream",
          "name": "stdout",
          "text": [
            "XGBoost model loaded successfully.\n",
            "  animal_name  predicted_class\n",
            "0         dog                1\n",
            "1       tiger                1\n",
            "2       eagle                2\n",
            "3   alligator                3\n",
            "4       shark                4\n",
            "5  salamander                5\n",
            "6         ant                6\n",
            "7      spider                7\n",
            "8   jellyfish                7\n",
            "9       cobra                3\n"
          ]
        }
      ]
    },
    {
      "cell_type": "code",
      "source": [
        "import pandas as pd\n",
        "import joblib\n",
        "\n",
        "# Load your trained XGBoost model\n",
        "xgb_model = joblib.load(\"best_xgb_model.pkl\")\n",
        "print(\"XGBoost model loaded successfully.\")\n",
        "\n",
        "# ----- NEW DATA -----\n",
        "animals = [\n",
        "    {'animal_name': 'dog', 'hair':1, 'feathers':0, 'eggs':0, 'milk':1, 'airborne':0, 'aquatic':0, 'predator':1,\n",
        "     'toothed':1, 'backbone':1, 'breathes':1, 'venomous':0, 'fins':0, 'legs':4, 'tail':1, 'domestic':1, 'catsize':0},\n",
        "\n",
        "    {'animal_name': 'tiger', 'hair':1, 'feathers':0, 'eggs':0, 'milk':1, 'airborne':0, 'aquatic':0, 'predator':1,\n",
        "     'toothed':1, 'backbone':1, 'breathes':1, 'venomous':0, 'fins':0, 'legs':4, 'tail':1, 'domestic':0, 'catsize':1},\n",
        "\n",
        "    {'animal_name': 'eagle', 'hair':0, 'feathers':1, 'eggs':1, 'milk':0, 'airborne':1, 'aquatic':0, 'predator':1,\n",
        "     'toothed':0, 'backbone':1, 'breathes':1, 'venomous':0, 'fins':0, 'legs':2, 'tail':1, 'domestic':0, 'catsize':0},\n",
        "\n",
        "    {'animal_name': 'alligator', 'hair':0, 'feathers':0, 'eggs':1, 'milk':0, 'airborne':0, 'aquatic':1, 'predator':1,\n",
        "     'toothed':1, 'backbone':1, 'breathes':1, 'venomous':0, 'fins':0, 'legs':4, 'tail':1, 'domestic':0, 'catsize':1},\n",
        "\n",
        "    {'animal_name': 'shark', 'hair':0, 'feathers':0, 'eggs':1, 'milk':0, 'airborne':0, 'aquatic':1, 'predator':1,\n",
        "     'toothed':1, 'backbone':1, 'breathes':1, 'venomous':0, 'fins':1, 'legs':0, 'tail':1, 'domestic':0, 'catsize':1},\n",
        "\n",
        "    {'animal_name': 'salamander', 'hair':0, 'feathers':0, 'eggs':1, 'milk':0, 'airborne':0, 'aquatic':1, 'predator':0,\n",
        "     'toothed':1, 'backbone':1, 'breathes':1, 'venomous':0, 'fins':0, 'legs':4, 'tail':1, 'domestic':0, 'catsize':0},\n",
        "\n",
        "    {'animal_name': 'ant', 'hair':0, 'feathers':0, 'eggs':1, 'milk':0, 'airborne':0, 'aquatic':0, 'predator':0,\n",
        "     'toothed':0, 'backbone':0, 'breathes':0, 'venomous':0, 'fins':0, 'legs':6, 'tail':0, 'domestic':0, 'catsize':0},\n",
        "\n",
        "    {'animal_name': 'spider', 'hair':0, 'feathers':0, 'eggs':1, 'milk':0, 'airborne':0, 'aquatic':0, 'predator':1,\n",
        "     'toothed':0, 'backbone':0, 'breathes':0, 'venomous':1, 'fins':0, 'legs':8, 'tail':0, 'domestic':0, 'catsize':0},\n",
        "\n",
        "    {'animal_name': 'jellyfish', 'hair':0, 'feathers':0, 'eggs':1, 'milk':0, 'airborne':0, 'aquatic':1, 'predator':1,\n",
        "     'toothed':0, 'backbone':0, 'breathes':0, 'venomous':0, 'fins':0, 'legs':0, 'tail':0, 'domestic':0, 'catsize':0},\n",
        "\n",
        "    {'animal_name': 'cobra', 'hair':0, 'feathers':0, 'eggs':1, 'milk':0, 'airborne':0, 'aquatic':0, 'predator':1,\n",
        "     'toothed':1, 'backbone':1, 'breathes':1, 'venomous':1, 'fins':0, 'legs':0, 'tail':1, 'domestic':0, 'catsize':0}\n",
        "]\n",
        "\n",
        "# Convert into DataFrame\n",
        "df_animals = pd.DataFrame(animals)\n",
        "\n",
        "# Drop name column before prediction\n",
        "X_new = df_animals.drop(columns=['animal_name'])\n",
        "\n",
        "# Predict using trained XGB model\n",
        "predictions = xgb_model.predict(X_new)\n",
        "\n",
        "# If classes were 0-indexed, shift back\n",
        "predictions = predictions + 1\n",
        "\n",
        "# Attach results\n",
        "df_animals['predicted_class'] = predictions\n",
        "\n",
        "# Show results\n",
        "print(df_animals[['animal_name', 'predicted_class']])\n"
      ],
      "metadata": {
        "colab": {
          "base_uri": "https://localhost:8080/"
        },
        "id": "nEYMB37r0gQn",
        "outputId": "4f8324e9-9ebb-4c19-c699-20e4a9a17c3d"
      },
      "execution_count": 118,
      "outputs": [
        {
          "output_type": "stream",
          "name": "stdout",
          "text": [
            "XGBoost model loaded successfully.\n",
            "  animal_name  predicted_class\n",
            "0         dog                1\n",
            "1       tiger                1\n",
            "2       eagle                2\n",
            "3   alligator                5\n",
            "4       shark                4\n",
            "5  salamander                5\n",
            "6         ant                6\n",
            "7      spider                7\n",
            "8   jellyfish                7\n",
            "9       cobra                3\n"
          ]
        }
      ]
    },
    {
      "cell_type": "markdown",
      "source": [
        "here my alligator class was falsely determined"
      ],
      "metadata": {
        "id": "NuvT29P98iO8"
      }
    },
    {
      "cell_type": "markdown",
      "source": [
        "Step 2: Modify Dataset"
      ],
      "metadata": {
        "id": "v3CXRPm40-yS"
      }
    },
    {
      "cell_type": "code",
      "source": [
        "import pandas as pd\n",
        "\n",
        "# Load zoo dataset\n",
        "df = pd.read_csv(\"/content/drive/MyDrive/DRF P1/zoo.csv\")\n",
        "\n",
        "df['cold_blooded'] = df['class_type'].apply(lambda x: 1 if x in [3,4,5] else 0)  # reptiles, fish, amphibians\n",
        "df['scales'] = df['class_type'].apply(lambda x: 1 if x in [3,4] else 0)          # reptiles, fish\n",
        "df['metamorphosis'] = df['class_type'].apply(lambda x: 1 if x == 5 else 0)"
      ],
      "metadata": {
        "id": "sM12144f0_aR"
      },
      "execution_count": 123,
      "outputs": []
    },
    {
      "cell_type": "markdown",
      "source": [
        "Step 3: Retrain XGBoost with New Features"
      ],
      "metadata": {
        "id": "kVSS1ac91F3q"
      }
    },
    {
      "cell_type": "code",
      "source": [
        "from xgboost import XGBClassifier\n",
        "from sklearn.model_selection import train_test_split\n",
        "from sklearn.metrics import accuracy_score\n",
        "\n",
        "# Split features/labels\n",
        "X = df.drop(columns=['animal_name','class_type'])\n",
        "y = df['class_type'] - 1   # 0-index for XGBoost\n",
        "\n",
        "# Train/test split\n",
        "X_train, X_test, y_train, y_test = train_test_split(X, y, test_size=0.2, random_state=42, stratify=y)\n",
        "\n",
        "# Train XGB\n",
        "xgb = XGBClassifier(use_label_encoder=False, eval_metric='mlogloss', random_state=42)\n",
        "xgb.fit(X_train, y_train)\n",
        "\n",
        "# Check accuracy\n",
        "y_pred = xgb.predict(X_test)\n",
        "print(\"Accuracy:\", accuracy_score(y_test, y_pred))\n"
      ],
      "metadata": {
        "colab": {
          "base_uri": "https://localhost:8080/"
        },
        "id": "fu5-hc_V1EDl",
        "outputId": "6cc0611e-405c-47d9-a19f-d1883b7186e5"
      },
      "execution_count": 124,
      "outputs": [
        {
          "output_type": "stream",
          "name": "stdout",
          "text": [
            "Accuracy: 1.0\n"
          ]
        }
      ]
    },
    {
      "cell_type": "code",
      "source": [
        "# ----- NEW ANIMALS -----\n",
        "animals = [\n",
        "    {'animal_name': 'dog', 'hair':1, 'feathers':0, 'eggs':0, 'milk':1, 'airborne':0, 'aquatic':0, 'predator':1,\n",
        "     'toothed':1, 'backbone':1, 'breathes':1, 'venomous':0, 'fins':0, 'legs':4, 'tail':1, 'domestic':1, 'catsize':0,\n",
        "     'cold_blooded':0, 'scales':0, 'metamorphosis':0},\n",
        "\n",
        "    {'animal_name': 'alligator', 'hair':0, 'feathers':0, 'eggs':1, 'milk':0, 'airborne':0, 'aquatic':1, 'predator':1,\n",
        "     'toothed':1, 'backbone':1, 'breathes':1, 'venomous':0, 'fins':0, 'legs':4, 'tail':1, 'domestic':0, 'catsize':1,\n",
        "     'cold_blooded':1, 'scales':1, 'metamorphosis':0},\n",
        "\n",
        "    {'animal_name': 'salamander', 'hair':0, 'feathers':0, 'eggs':1, 'milk':0, 'airborne':0, 'aquatic':1, 'predator':0,\n",
        "     'toothed':1, 'backbone':1, 'breathes':1, 'venomous':0, 'fins':0, 'legs':4, 'tail':1, 'domestic':0, 'catsize':0,\n",
        "     'cold_blooded':1, 'scales':0, 'metamorphosis':1},\n",
        "\n",
        "    {'animal_name': 'cobra', 'hair':0, 'feathers':0, 'eggs':1, 'milk':0, 'airborne':0, 'aquatic':0, 'predator':1,\n",
        "     'toothed':1, 'backbone':1, 'breathes':1, 'venomous':1, 'fins':0, 'legs':0, 'tail':1, 'domestic':0, 'catsize':0,\n",
        "     'cold_blooded':1, 'scales':1, 'metamorphosis':0}\n",
        "]\n",
        "\n",
        "df_animals = pd.DataFrame(animals)\n",
        "X_new = df_animals.drop(columns=['animal_name'])\n",
        "\n",
        "# Predict with new model\n",
        "predictions = xgb.predict(X_new) + 1  # shift back to 1–7 classes\n",
        "df_animals['predicted_class'] = predictions\n",
        "\n",
        "print(df_animals[['animal_name','predicted_class']])\n"
      ],
      "metadata": {
        "colab": {
          "base_uri": "https://localhost:8080/"
        },
        "id": "de3HqlyT1L-P",
        "outputId": "0b6b48f7-68b3-403b-e9fa-5933bc232d75"
      },
      "execution_count": 125,
      "outputs": [
        {
          "output_type": "stream",
          "name": "stdout",
          "text": [
            "  animal_name  predicted_class\n",
            "0         dog                1\n",
            "1   alligator                3\n",
            "2  salamander                5\n",
            "3       cobra                3\n"
          ]
        }
      ]
    },
    {
      "cell_type": "code",
      "source": [
        "# ----- NEW ANIMALS -----\n",
        "animals = [\n",
        "    # Mammals\n",
        "    {'animal_name': 'dog', 'hair':1, 'feathers':0, 'eggs':0, 'milk':1, 'airborne':0, 'aquatic':0, 'predator':1,\n",
        "     'toothed':1, 'backbone':1, 'breathes':1, 'venomous':0, 'fins':0, 'legs':4, 'tail':1, 'domestic':1, 'catsize':0,\n",
        "     'cold_blooded':0, 'scales':0, 'metamorphosis':0},\n",
        "\n",
        "    {'animal_name': 'tiger', 'hair':1, 'feathers':0, 'eggs':0, 'milk':1, 'airborne':0, 'aquatic':0, 'predator':1,\n",
        "     'toothed':1, 'backbone':1, 'breathes':1, 'venomous':0, 'fins':0, 'legs':4, 'tail':1, 'domestic':0, 'catsize':1,\n",
        "     'cold_blooded':0, 'scales':0, 'metamorphosis':0},\n",
        "\n",
        "    # Birds\n",
        "    {'animal_name': 'eagle', 'hair':0, 'feathers':1, 'eggs':1, 'milk':0, 'airborne':1, 'aquatic':0, 'predator':1,\n",
        "     'toothed':0, 'backbone':1, 'breathes':1, 'venomous':0, 'fins':0, 'legs':2, 'tail':1, 'domestic':0, 'catsize':0,\n",
        "     'cold_blooded':0, 'scales':0, 'metamorphosis':0},\n",
        "\n",
        "    # Reptiles\n",
        "    {'animal_name': 'alligator', 'hair':0, 'feathers':0, 'eggs':1, 'milk':0, 'airborne':0, 'aquatic':1, 'predator':1,\n",
        "     'toothed':1, 'backbone':1, 'breathes':1, 'venomous':0, 'fins':0, 'legs':4, 'tail':1, 'domestic':0, 'catsize':1,\n",
        "     'cold_blooded':1, 'scales':1, 'metamorphosis':0},\n",
        "\n",
        "    {'animal_name': 'cobra', 'hair':0, 'feathers':0, 'eggs':1, 'milk':0, 'airborne':0, 'aquatic':0, 'predator':1,\n",
        "     'toothed':1, 'backbone':1, 'breathes':1, 'venomous':1, 'fins':0, 'legs':0, 'tail':1, 'domestic':0, 'catsize':0,\n",
        "     'cold_blooded':1, 'scales':1, 'metamorphosis':0},\n",
        "\n",
        "    # Fish\n",
        "    {'animal_name': 'shark', 'hair':0, 'feathers':0, 'eggs':1, 'milk':0, 'airborne':0, 'aquatic':1, 'predator':1,\n",
        "     'toothed':1, 'backbone':1, 'breathes':1, 'venomous':0, 'fins':1, 'legs':0, 'tail':1, 'domestic':0, 'catsize':1,\n",
        "     'cold_blooded':1, 'scales':1, 'metamorphosis':0},\n",
        "\n",
        "    # Amphibians\n",
        "    {'animal_name': 'salamander', 'hair':0, 'feathers':0, 'eggs':1, 'milk':0, 'airborne':0, 'aquatic':1, 'predator':0,\n",
        "     'toothed':1, 'backbone':1, 'breathes':1, 'venomous':0, 'fins':0, 'legs':4, 'tail':1, 'domestic':0, 'catsize':0,\n",
        "     'cold_blooded':1, 'scales':0, 'metamorphosis':1},\n",
        "\n",
        "    # Insects\n",
        "    {'animal_name': 'ant', 'hair':0, 'feathers':0, 'eggs':1, 'milk':0, 'airborne':0, 'aquatic':0, 'predator':0,\n",
        "     'toothed':0, 'backbone':0, 'breathes':0, 'venomous':0, 'fins':0, 'legs':6, 'tail':0, 'domestic':0, 'catsize':0,\n",
        "     'cold_blooded':0, 'scales':0, 'metamorphosis':0},\n",
        "\n",
        "    # Arachnids\n",
        "    {'animal_name': 'spider', 'hair':0, 'feathers':0, 'eggs':1, 'milk':0, 'airborne':0, 'aquatic':0, 'predator':1,\n",
        "     'toothed':0, 'backbone':0, 'breathes':0, 'venomous':1, 'fins':0, 'legs':8, 'tail':0, 'domestic':0, 'catsize':0,\n",
        "     'cold_blooded':0, 'scales':0, 'metamorphosis':0},\n",
        "\n",
        "    # Others\n",
        "    {'animal_name': 'jellyfish', 'hair':0, 'feathers':0, 'eggs':1, 'milk':0, 'airborne':0, 'aquatic':1, 'predator':1,\n",
        "     'toothed':0, 'backbone':0, 'breathes':0, 'venomous':0, 'fins':0, 'legs':0, 'tail':0, 'domestic':0, 'catsize':0,\n",
        "     'cold_blooded':0, 'scales':0, 'metamorphosis':0}\n",
        "]\n",
        "\n",
        "# Convert to DataFrame\n",
        "df_animals = pd.DataFrame(animals)\n",
        "\n",
        "# Drop animal_name for prediction\n",
        "X_new = df_animals.drop(columns=['animal_name'])\n",
        "\n",
        "# Predict with trained model\n",
        "predictions = xgb.predict(X_new) + 1  # convert back to 1–7\n",
        "df_animals['predicted_class'] = predictions\n",
        "\n",
        "# Show results\n",
        "print(df_animals[['animal_name', 'predicted_class']])\n"
      ],
      "metadata": {
        "colab": {
          "base_uri": "https://localhost:8080/"
        },
        "id": "gCIx9Lxk2E-c",
        "outputId": "724b7c70-ffff-4900-ce3e-5776981083fa"
      },
      "execution_count": 127,
      "outputs": [
        {
          "output_type": "stream",
          "name": "stdout",
          "text": [
            "  animal_name  predicted_class\n",
            "0         dog                1\n",
            "1       tiger                1\n",
            "2       eagle                2\n",
            "3   alligator                3\n",
            "4       cobra                3\n",
            "5       shark                4\n",
            "6  salamander                5\n",
            "7         ant                6\n",
            "8      spider                7\n",
            "9   jellyfish                7\n"
          ]
        }
      ]
    }
  ]
}